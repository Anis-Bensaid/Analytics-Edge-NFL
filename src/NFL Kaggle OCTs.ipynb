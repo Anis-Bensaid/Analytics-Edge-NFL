{
 "cells": [
  {
   "cell_type": "code",
   "execution_count": 1,
   "metadata": {},
   "outputs": [],
   "source": [
    "cd(\"C:/Users/jmcke/Desktop/Kaggle NFL\")"
   ]
  },
  {
   "cell_type": "code",
   "execution_count": 2,
   "metadata": {},
   "outputs": [],
   "source": [
    "using CSV, DataFrames, Random, StatsBase"
   ]
  },
  {
   "cell_type": "code",
   "execution_count": 3,
   "metadata": {},
   "outputs": [],
   "source": [
    "df = CSV.read(\"train_features_nov7.csv\", categorical=true);"
   ]
  },
  {
   "cell_type": "code",
   "execution_count": 4,
   "metadata": {},
   "outputs": [
    {
     "data": {
      "text/html": [
       "<table class=\"data-frame\"><thead><tr><th></th><th>X</th><th>Y</th><th>S</th><th>A</th><th>Dis</th><th>Orientation</th><th>Dir</th><th>JerseyNumber</th></tr><tr><th></th><th>Float64</th><th>Float64</th><th>Float64</th><th>Float64</th><th>Float64</th><th>Float64</th><th>Float64</th><th>Int64</th></tr></thead><tbody><p>5 rows × 45 columns (omitted printing of 37 columns)</p><tr><th>1</th><td>46.65</td><td>38.83</td><td>4.55</td><td>0.76</td><td>0.51</td><td>284.53</td><td>169.16</td><td>22</td></tr><tr><th>2</th><td>46.63</td><td>18.73</td><td>1.24</td><td>0.74</td><td>0.13</td><td>31.48</td><td>89.96</td><td>23</td></tr><tr><th>3</th><td>46.09</td><td>34.84</td><td>1.69</td><td>1.13</td><td>0.4</td><td>278.01</td><td>182.82</td><td>29</td></tr><tr><th>4</th><td>50.68</td><td>35.42</td><td>1.82</td><td>2.43</td><td>0.16</td><td>347.37</td><td>195.69</td><td>38</td></tr><tr><th>5</th><td>45.89</td><td>16.64</td><td>1.11</td><td>0.83</td><td>0.02</td><td>2.77</td><td>37.41</td><td>39</td></tr></tbody></table>"
      ],
      "text/latex": [
       "\\begin{tabular}{r|ccccccccc}\n",
       "\t& X & Y & S & A & Dis & Orientation & Dir & JerseyNumber & \\\\\n",
       "\t\\hline\n",
       "\t& Float64 & Float64 & Float64 & Float64 & Float64 & Float64 & Float64 & Int64 & \\\\\n",
       "\t\\hline\n",
       "\t1 & 46.65 & 38.83 & 4.55 & 0.76 & 0.51 & 284.53 & 169.16 & 22 & $\\dots$ \\\\\n",
       "\t2 & 46.63 & 18.73 & 1.24 & 0.74 & 0.13 & 31.48 & 89.96 & 23 & $\\dots$ \\\\\n",
       "\t3 & 46.09 & 34.84 & 1.69 & 1.13 & 0.4 & 278.01 & 182.82 & 29 & $\\dots$ \\\\\n",
       "\t4 & 50.68 & 35.42 & 1.82 & 2.43 & 0.16 & 347.37 & 195.69 & 38 & $\\dots$ \\\\\n",
       "\t5 & 45.89 & 16.64 & 1.11 & 0.83 & 0.02 & 2.77 & 37.41 & 39 & $\\dots$ \\\\\n",
       "\\end{tabular}\n"
      ],
      "text/plain": [
       "5×45 DataFrame. Omitted printing of 39 columns\n",
       "│ Row │ X       │ Y       │ S       │ A       │ Dis     │ Orientation │\n",
       "│     │ \u001b[90mFloat64\u001b[39m │ \u001b[90mFloat64\u001b[39m │ \u001b[90mFloat64\u001b[39m │ \u001b[90mFloat64\u001b[39m │ \u001b[90mFloat64\u001b[39m │ \u001b[90mFloat64\u001b[39m     │\n",
       "├─────┼─────────┼─────────┼─────────┼─────────┼─────────┼─────────────┤\n",
       "│ 1   │ 46.65   │ 38.83   │ 4.55    │ 0.76    │ 0.51    │ 284.53      │\n",
       "│ 2   │ 46.63   │ 18.73   │ 1.24    │ 0.74    │ 0.13    │ 31.48       │\n",
       "│ 3   │ 46.09   │ 34.84   │ 1.69    │ 1.13    │ 0.4     │ 278.01      │\n",
       "│ 4   │ 50.68   │ 35.42   │ 1.82    │ 2.43    │ 0.16    │ 347.37      │\n",
       "│ 5   │ 45.89   │ 16.64   │ 1.11    │ 0.83    │ 0.02    │ 2.77        │"
      ]
     },
     "execution_count": 4,
     "metadata": {},
     "output_type": "execute_result"
    }
   ],
   "source": [
    "df = df[:,2:size(df,2)]\n",
    "n = size(df,1)\n",
    "m = size(df,2)\n",
    "first(df, 5)"
   ]
  },
  {
   "cell_type": "code",
   "execution_count": 5,
   "metadata": {},
   "outputs": [
    {
     "name": "stderr",
     "output_type": "stream",
     "text": [
      "┌ Warning: `setindex!(df::DataFrame, v::AbstractVector, ::Colon, col_ind::ColumnIndex)` is deprecated, use `begin\n",
      "│     df[!, col_ind] = v\n",
      "│     df\n",
      "│ end` instead.\n",
      "│   caller = top-level scope at In[5]:2\n",
      "└ @ Core .\\In[5]:2\n",
      "┌ Warning: In the future setindex! will disallow adding columnsto a DataFrame using integer index. Use a Symbol to specify a column name instead.\n",
      "│   caller = setindex!(::DataFrame, ::Array{Float64,1}, ::Colon, ::Int64) at deprecated.jl:67\n",
      "└ @ DataFrames .\\deprecated.jl:67\n"
     ]
    }
   ],
   "source": [
    "#binary expansion\n",
    "for i=1:199\n",
    "    df[:,m+i] = zeros(n)\n",
    "    df[df[:,:Yards].==(i-100),m+i] .= 1\n",
    "end"
   ]
  },
  {
   "cell_type": "code",
   "execution_count": 8,
   "metadata": {},
   "outputs": [],
   "source": [
    "#remove y label and randomize rows\n",
    "select!(df, Not(:Yards))\n",
    "new = df[shuffle(1:size(df, 1)),:];"
   ]
  },
  {
   "cell_type": "code",
   "execution_count": 12,
   "metadata": {},
   "outputs": [],
   "source": [
    "#generate training and testing sets\n",
    "l = Int(round(n/50))\n",
    "train_X = new[1:l,1:m-1]\n",
    "test_X = new[l+1:n,1:m-1]\n",
    "\n",
    "train_y = new[1:l,m:size(new,2)]\n",
    "test_y = new[l+1:n,m:size(new,2)];"
   ]
  },
  {
   "cell_type": "code",
   "execution_count": 40,
   "metadata": {},
   "outputs": [],
   "source": [
    "#create arrays to fill in later\n",
    "probs = zeros(n-l)\n",
    "train_predictions = Float64[]\n",
    "test_predictions = Float64[];"
   ]
  },
  {
   "cell_type": "code",
   "execution_count": 41,
   "metadata": {},
   "outputs": [
    {
     "name": "stderr",
     "output_type": "stream",
     "text": [
      "\u001b[32mTraining trees...100%|██████████████████████████████████| Time: 0:00:03\u001b[39m\n",
      "┌ Warning: `getindex(df::DataFrame, col_ind::ColumnIndex)` is deprecated, use `df[!, col_ind]` instead.\n",
      "│   caller = top-level scope at In[41]:8\n",
      "└ @ Core .\\In[41]:8\n",
      "\u001b[32mTraining trees...100%|██████████████████████████████████| Time: 0:00:05\u001b[39m\n",
      "\u001b[32mTraining trees...100%|██████████████████████████████████| Time: 0:00:05\u001b[39m\n",
      "\u001b[32mTraining trees...100%|██████████████████████████████████| Time: 0:00:06\u001b[39m\n",
      "\u001b[32mTraining trees...100%|██████████████████████████████████| Time: 0:00:07\u001b[39m\n",
      "\u001b[32mTraining trees...100%|██████████████████████████████████| Time: 0:00:09\u001b[39m\n",
      "\u001b[32mTraining trees...100%|██████████████████████████████████| Time: 0:00:08\u001b[39m\n",
      "\u001b[32mTraining trees...100%|██████████████████████████████████| Time: 0:00:09\u001b[39m\n",
      "\u001b[32mTraining trees...100%|██████████████████████████████████| Time: 0:00:11\u001b[39m\n",
      "\u001b[32mTraining trees...100%|██████████████████████████████████| Time: 0:00:11\u001b[39m\n",
      "\u001b[32mTraining trees...100%|██████████████████████████████████| Time: 0:00:11\u001b[39m\n",
      "\u001b[32mTraining trees...100%|██████████████████████████████████| Time: 0:00:16\u001b[39m\n",
      "\u001b[32mTraining trees...100%|██████████████████████████████████| Time: 0:00:17\u001b[39m\n",
      "\u001b[32mTraining trees...100%|██████████████████████████████████| Time: 0:00:15\u001b[39m\n",
      "\u001b[32mTraining trees...100%|██████████████████████████████████| Time: 0:00:11\u001b[39m\n",
      "\u001b[32mTraining trees...100%|██████████████████████████████████| Time: 0:00:12\u001b[39m\n",
      "\u001b[32mTraining trees...100%|██████████████████████████████████| Time: 0:00:10\u001b[39m\n",
      "\u001b[32mTraining trees...100%|██████████████████████████████████| Time: 0:00:10\u001b[39m\n",
      "\u001b[32mTraining trees...100%|██████████████████████████████████| Time: 0:00:11\u001b[39m\n",
      "\u001b[32mTraining trees...100%|██████████████████████████████████| Time: 0:00:11\u001b[39m\n",
      "\u001b[32mTraining trees...100%|██████████████████████████████████| Time: 0:00:10\u001b[39m\n",
      "\u001b[32mTraining trees...100%|██████████████████████████████████| Time: 0:00:08\u001b[39m\n",
      "\u001b[32mTraining trees...100%|██████████████████████████████████| Time: 0:00:09\u001b[39m\n",
      "\u001b[32mTraining trees...100%|██████████████████████████████████| Time: 0:00:10\u001b[39m\n",
      "\u001b[32mTraining trees...100%|██████████████████████████████████| Time: 0:00:09\u001b[39m\n",
      "\u001b[32mTraining trees...100%|██████████████████████████████████| Time: 0:00:10\u001b[39m\n",
      "\u001b[32mTraining trees...100%|██████████████████████████████████| Time: 0:00:09\u001b[39m\n",
      "\u001b[32mTraining trees...100%|██████████████████████████████████| Time: 0:00:09\u001b[39m\n",
      "\u001b[32mTraining trees...100%|██████████████████████████████████| Time: 0:00:09\u001b[39m\n",
      "\u001b[32mTraining trees...100%|██████████████████████████████████| Time: 0:00:09\u001b[39m\n",
      "\u001b[32mTraining trees...100%|██████████████████████████████████| Time: 0:00:08\u001b[39m\n",
      "\u001b[32mTraining trees...100%|██████████████████████████████████| Time: 0:00:09\u001b[39m\n",
      "\u001b[32mTraining trees...100%|██████████████████████████████████| Time: 0:00:07\u001b[39m\n",
      "\u001b[32mTraining trees...100%|██████████████████████████████████| Time: 0:00:08\u001b[39m\n",
      "\u001b[32mTraining trees...100%|██████████████████████████████████| Time: 0:00:09\u001b[39m\n",
      "\u001b[32mTraining trees...100%|██████████████████████████████████| Time: 0:00:07\u001b[39m\n",
      "\u001b[32mTraining trees...100%|██████████████████████████████████| Time: 0:00:09\u001b[39m\n",
      "\u001b[32mTraining trees...100%|██████████████████████████████████| Time: 0:00:07\u001b[39m\n",
      "\u001b[32mTraining trees...100%|██████████████████████████████████| Time: 0:00:08\u001b[39m\n",
      "\u001b[32mTraining trees...100%|██████████████████████████████████| Time: 0:00:07\u001b[39m\n",
      "\u001b[32mTraining trees...100%|██████████████████████████████████| Time: 0:00:07\u001b[39m\n",
      "\u001b[32mTraining trees...100%|██████████████████████████████████| Time: 0:00:05\u001b[39m\n",
      "\u001b[32mTraining trees...100%|██████████████████████████████████| Time: 0:00:06\u001b[39m\n",
      "\u001b[32mTraining trees...100%|██████████████████████████████████| Time: 0:00:07\u001b[39m\n",
      "\u001b[32mTraining trees...100%|██████████████████████████████████| Time: 0:00:06\u001b[39m\n",
      "\u001b[32mTraining trees...100%|██████████████████████████████████| Time: 0:00:07\u001b[39m\n",
      "\u001b[32mTraining trees...100%|██████████████████████████████████| Time: 0:00:03\u001b[39m\n",
      "\u001b[32mTraining trees...100%|██████████████████████████████████| Time: 0:00:06\u001b[39m\n",
      "\u001b[32mTraining trees...100%|██████████████████████████████████| Time: 0:00:03\u001b[39m\n",
      "\u001b[32mTraining trees...100%|██████████████████████████████████| Time: 0:00:04\u001b[39m\n",
      "\u001b[32mTraining trees...100%|██████████████████████████████████| Time: 0:00:03\u001b[39m\n",
      "\u001b[32mTraining trees...100%|██████████████████████████████████| Time: 0:00:03\u001b[39m\n",
      "\u001b[32mTraining trees...100%|██████████████████████████████████| Time: 0:00:03\u001b[39m\n",
      "\u001b[32mTraining trees...100%|██████████████████████████████████| Time: 0:00:03\u001b[39m\n",
      "\u001b[32mTraining trees...100%|██████████████████████████████████| Time: 0:00:03\u001b[39m\n",
      "\u001b[32mTraining trees...100%|██████████████████████████████████| Time: 0:00:04\u001b[39m\n",
      "\u001b[32mTraining trees...100%|██████████████████████████████████| Time: 0:00:04\u001b[39m\n",
      "\u001b[32mTraining trees...100%|██████████████████████████████████| Time: 0:00:03\u001b[39m\n",
      "\u001b[32mTraining trees...100%|██████████████████████████████████| Time: 0:00:04\u001b[39m\n",
      "\u001b[32mTraining trees...100%|██████████████████████████████████| Time: 0:00:04\u001b[39m\n",
      "\u001b[32mTraining trees...100%|██████████████████████████████████| Time: 0:00:04\u001b[39m\n",
      "\u001b[32mTraining trees...100%|██████████████████████████████████| Time: 0:00:03\u001b[39m\n",
      "\u001b[32mTraining trees...100%|██████████████████████████████████| Time: 0:00:04\u001b[39m\n"
     ]
    }
   ],
   "source": [
    "#create 199 models based on 199 columns (0 1) in the train_y matrix\n",
    "for i=1:199\n",
    "    lnr = IAI.OptimalTreeClassifier(random_seed=1,max_depth=5, cp=0.001, minbucket=10)\n",
    "    IAI.fit!(lnr,train_X,train_y[:,i])\n",
    "    probs_push = IAI.predict_proba(lnr, test_X) #make predictions on test set\n",
    "    \n",
    "    if size(probs_push, 2) > 1\n",
    "        probs = hcat(probs, IAI.predict_proba(lnr, test_X)[2])\n",
    "    else\n",
    "        probs = hcat(probs, zeros(n-l))\n",
    "    end\n",
    "end"
   ]
  },
  {
   "cell_type": "code",
   "execution_count": 118,
   "metadata": {},
   "outputs": [],
   "source": [
    "#create cdf\n",
    "probs = probs[:,2:size(probs,2)]\n",
    "\n",
    "cdf = zeros(n,m)\n",
    "n = size(probs,1)\n",
    "m = size(probs,2)\n",
    "\n",
    "for i=1:n\n",
    "    for j=1:m\n",
    "        if j==1\n",
    "            cdf[i,j] = probs[i,j]\n",
    "        else\n",
    "            cdf[i,j] = probs[i,j] + cdf[i,(j-1)]\n",
    "        end\n",
    "    end\n",
    "end\n",
    "\n",
    "#normalize rows 0-1\n",
    "for i=1:n\n",
    "    for j=1:m\n",
    "        cdf[i,j] = cdf[i,j]/cdf[i,m]\n",
    "    end\n",
    "end"
   ]
  },
  {
   "cell_type": "code",
   "execution_count": 136,
   "metadata": {},
   "outputs": [],
   "source": [
    "my_p = Float64[]\n",
    "\n",
    "#find actual y value for hinge function\n",
    "for i=1:n\n",
    "    for j=1:m\n",
    "        if test_y[i,j]==1\n",
    "            push!(my_p, j)\n",
    "        end\n",
    "    end\n",
    "end\n",
    "\n",
    "score = 0\n",
    "k = 1\n",
    "\n",
    "#calculate score\n",
    "for i=1:n\n",
    "    if Int(my_p[k])!=199 & Int(my_p[k])!=1\n",
    "        score += (sum((cdf[i,j]-0)^2 for j=1:Int(my_p[k])) + sum((1-cdf[i,j])^2 for j=(Int(my_p[k])+1):m))\n",
    "    elseif Int(my_p[k])==199\n",
    "        score += sum((cdf[i,j]-0)^2 for j=1:Int(my_p[k]))\n",
    "    else\n",
    "        score += sum((1-cdf[i,j])^2 for j=(Int(my_p[k])+1):m)\n",
    "    end\n",
    "    k += 1\n",
    "end"
   ]
  },
  {
   "cell_type": "code",
   "execution_count": 138,
   "metadata": {},
   "outputs": [
    {
     "name": "stdout",
     "output_type": "stream",
     "text": [
      "Our final score is: 0.013013542638025913\n"
     ]
    }
   ],
   "source": [
    "#final score\n",
    "println(\"Our final score is: \", score/(199*n))"
   ]
  },
  {
   "cell_type": "code",
   "execution_count": 135,
   "metadata": {},
   "outputs": [
    {
     "data": {
      "text/plain": [
       "\"CDF_Kaggle.csv\""
      ]
     },
     "execution_count": 135,
     "metadata": {},
     "output_type": "execute_result"
    }
   ],
   "source": [
    "CSV.write(\"CDF_Kaggle.csv\", convert(DataFrame, cdf))"
   ]
  }
 ],
 "metadata": {
  "kernelspec": {
   "display_name": "Julia 1.2.0",
   "language": "julia",
   "name": "julia-1.2"
  },
  "language_info": {
   "file_extension": ".jl",
   "mimetype": "application/julia",
   "name": "julia",
   "version": "1.2.0"
  }
 },
 "nbformat": 4,
 "nbformat_minor": 2
}
